{
 "cells": [
  {
   "cell_type": "markdown",
   "metadata": {},
   "source": [
    "# PageRank"
   ]
  },
  {
   "cell_type": "markdown",
   "metadata": {},
   "source": [
    "In this lab you will implement PageRank and then apply it to the wikipedia Category:English-language_films and interpret the results.\\\n",
    "There is some supporting code including a simple networks class and some test networks with soulutions."
   ]
  },
  {
   "cell_type": "code",
   "execution_count": 1,
   "metadata": {},
   "outputs": [],
   "source": [
    "import gzip\n",
    "import json\n",
    "import numpy as np\n",
    "from collections import defaultdict"
   ]
  },
  {
   "cell_type": "markdown",
   "metadata": {},
   "source": [
    "## Networks class\n",
    "The following is a networks class which allows you to deal with a directed network.\\\n",
    "You will not need to modify this class, but you should have a look to make sure you understand how to use it.\n",
    "- The in degree of a node is the number of edges that go towards a node.\n",
    "- The out degree of a node is the number of edges that go away from a node."
   ]
  },
  {
   "cell_type": "code",
   "execution_count": 2,
   "metadata": {},
   "outputs": [],
   "source": [
    "class Network(object):\n",
    "    def __init__(self):\n",
    "        self.N = 0\n",
    "        self.out_edges = defaultdict(list)\n",
    "        self.in_edges = defaultdict(list)\n",
    "        self.in_degree = defaultdict(int)\n",
    "        self.out_degree = defaultdict(int)\n",
    "\n",
    "    # add an edge from u to v\n",
    "    def add_edge(self, u, v):\n",
    "        if u not in self.out_edges and u not in self.in_edges:\n",
    "            self.N += 1\n",
    "        if v not in self.out_edges and v not in self.in_edges:\n",
    "            self.N += 1\n",
    "            \n",
    "        self.out_edges[u].append(v)\n",
    "        self.in_edges[v].append(u)\n",
    "        self.in_degree[v] += 1 \n",
    "        self.out_degree[u] += 1\n",
    "\n",
    "    # get a list of all the nodes that have an edge to u\n",
    "    def get_in_edges(self, u):\n",
    "        return list(self.in_edges[u])\n",
    "\n",
    "    # get a list of all the nodes which u connects to\n",
    "    def get_out_edges(self, u):\n",
    "        return list(self.out_edges[u])"
   ]
  },
  {
   "cell_type": "markdown",
   "metadata": {},
   "source": [
    "## Simple Test Networks\n",
    "The following will construct some simple test networks for you to run your PageRank algorithm on.\\\n",
    "The solutions are also included to help you debug your PageRank implementation."
   ]
  },
  {
   "cell_type": "code",
   "execution_count": 3,
   "metadata": {},
   "outputs": [],
   "source": [
    "net = Network()\n",
    "net.add_edge(0, 2)\n",
    "net.add_edge(2, 0)\n",
    "net.add_edge(0, 1)\n",
    "net.add_edge(1, 2)\n",
    "net_pr_sol = np.array([0.38778971, 0.21481063, 0.39739966])\n",
    "\n",
    "net2 = Network()\n",
    "net2.add_edge(0, 4)\n",
    "net2.add_edge(4, 2)\n",
    "net2.add_edge(4, 1)\n",
    "net2.add_edge(2, 1)\n",
    "net2.add_edge(2, 3)\n",
    "net2.add_edge(3, 5)\n",
    "net2.add_edge(1, 5)\n",
    "net2.add_edge(1, 3)\n",
    "net2.add_edge(5, 1)\n",
    "net_pr2_sol = np.array([0.025, 0.35171635, 0.04465625, 0.19345835, 0.04625, 0.33891905]) "
   ]
  },
  {
   "cell_type": "markdown",
   "metadata": {},
   "source": [
    "# PageRank\n",
    "Implement PageRank below. The pseudocode can be found in the lecture slides.\\\n",
    "You should assume that all nodes in the network are labled with integers from 0 to N. (With N the total number of nodes.)\\\n",
    "Your return value should be the PageRanks in a numpy array indexed by node id.\\\n",
    "You will need to use the ```get_in_edges``` method and the ```out_degree``` attribute from the Network class."
   ]
  },
  {
   "cell_type": "code",
   "execution_count": 52,
   "metadata": {},
   "outputs": [],
   "source": [
    "def updateR(net, R, eq, alpha):\n",
    "    for i in range(net.N):\n",
    "        #update\n",
    "        newR = np.zeros(net.N)\n",
    "        edges = net.get_in_edges(i)\n",
    "        newR[i] = (eq + (1-alpha)*np.sum(R[edges] / np.array([net.out_degree[j] for j in edges])))\n",
    "    return newR, R\n",
    "\n",
    "def pagerank(net):\n",
    "    alpha = 0.15\n",
    "    R = np.ones(net.N) / net.N\n",
    "    \n",
    "    # TODO: implement pagerank\n",
    "    Conv = False\n",
    "    Rprev = []\n",
    "    eq = alpha / net.N\n",
    "    iterations = 0\n",
    "    while not Conv: #iterate until some convergence threshold is crossed\n",
    "        R, Rprev = updateR(net, R, eq, alpha) #Run update code\n",
    "        #implement threshold\n",
    "        iterations += 1\n",
    "        Conv = np.array_equal(np.around(R, 10), np.around(Rprev, 10)) #Break loop\n",
    "    print(\"num iterations: \" + str(iterations))\n",
    "    return R"
   ]
  },
  {
   "cell_type": "markdown",
   "metadata": {},
   "source": [
    "## Test PageRank\n",
    "The following will help debug your PageRank algorithm. By testing it on some simple networks."
   ]
  },
  {
   "cell_type": "code",
   "execution_count": 53,
   "metadata": {},
   "outputs": [
    {
     "name": "stdout",
     "output_type": "stream",
     "text": [
      "num iterations: 3\n",
      "Your PR:     [0.   0.   0.05]\n",
      "Expected PR: [0.38778971 0.21481063 0.39739966]\n"
     ]
    },
    {
     "ename": "AssertionError",
     "evalue": "",
     "output_type": "error",
     "traceback": [
      "\u001b[0;31m---------------------------------------------------------------------------\u001b[0m",
      "\u001b[0;31mAssertionError\u001b[0m                            Traceback (most recent call last)",
      "\u001b[0;32m<ipython-input-53-fa156046a425>\u001b[0m in \u001b[0;36m<module>\u001b[0;34m\u001b[0m\n\u001b[1;32m      2\u001b[0m \u001b[0mprint\u001b[0m\u001b[0;34m(\u001b[0m\u001b[0;34m\"Your PR:    \"\u001b[0m\u001b[0;34m,\u001b[0m \u001b[0mres\u001b[0m\u001b[0;34m)\u001b[0m\u001b[0;34m\u001b[0m\u001b[0;34m\u001b[0m\u001b[0m\n\u001b[1;32m      3\u001b[0m \u001b[0mprint\u001b[0m\u001b[0;34m(\u001b[0m\u001b[0;34m\"Expected PR:\"\u001b[0m\u001b[0;34m,\u001b[0m \u001b[0mnet_pr_sol\u001b[0m\u001b[0;34m)\u001b[0m\u001b[0;34m\u001b[0m\u001b[0;34m\u001b[0m\u001b[0m\n\u001b[0;32m----> 4\u001b[0;31m \u001b[0;32massert\u001b[0m \u001b[0mnp\u001b[0m\u001b[0;34m.\u001b[0m\u001b[0mallclose\u001b[0m\u001b[0;34m(\u001b[0m\u001b[0mres\u001b[0m\u001b[0;34m,\u001b[0m \u001b[0mnet_pr_sol\u001b[0m\u001b[0;34m,\u001b[0m \u001b[0mrtol\u001b[0m\u001b[0;34m=\u001b[0m\u001b[0;36m1e-4\u001b[0m\u001b[0;34m,\u001b[0m \u001b[0matol\u001b[0m\u001b[0;34m=\u001b[0m\u001b[0;36m1e-6\u001b[0m\u001b[0;34m)\u001b[0m\u001b[0;34m\u001b[0m\u001b[0;34m\u001b[0m\u001b[0m\n\u001b[0m",
      "\u001b[0;31mAssertionError\u001b[0m: "
     ]
    }
   ],
   "source": [
    "res = pagerank(net)\n",
    "print(\"Your PR:    \", res)\n",
    "print(\"Expected PR:\", net_pr_sol)\n",
    "assert np.allclose(res, net_pr_sol, rtol=1e-4, atol=1e-6)"
   ]
  },
  {
   "cell_type": "code",
   "execution_count": null,
   "metadata": {},
   "outputs": [],
   "source": [
    "res = pagerank(net2)\n",
    "print(\"Your PR:    \", res)\n",
    "print(\"Expected PR:\", net_pr2_sol)\n",
    "assert np.allclose(res, net_pr2_sol, rtol=1e-4, atol=1e-6)"
   ]
  },
  {
   "cell_type": "markdown",
   "metadata": {},
   "source": [
    "# PageRank on Wikipedia\n",
    "The following uses a network of English language films from Wikipedia collected in September 2011. This network has 9699 nodes and 21278 directed edges. The nodes are Wikipedia pages and the edges are hyperlinks between Wikipedia pages. Only edges between the English language films are in this dataset.\\\n",
    "The data was extracted from this larger dataset: [http://snap.stanford.edu/data/wiki-topcats.html](http://snap.stanford.edu/data/wiki-topcats.html)"
   ]
  },
  {
   "cell_type": "code",
   "execution_count": null,
   "metadata": {},
   "outputs": [],
   "source": [
    "# load the wikipedia graph\n",
    "# edges: a list(tuple(int, int)) each element of which denotes (source node id, target node id) of an edge\n",
    "# names: a dict(int: str) a mapping from nodeids to film names\n",
    "edges, names = json.load(gzip.open(\"data/wiki_graph.json.gz\", \"r\"))"
   ]
  },
  {
   "cell_type": "code",
   "execution_count": null,
   "metadata": {},
   "outputs": [],
   "source": [
    "net3 = Network()\n",
    "# TODO: construct the network using edges"
   ]
  },
  {
   "cell_type": "code",
   "execution_count": null,
   "metadata": {},
   "outputs": [],
   "source": [
    "# TODO: run pagerank on the wikipedia graph"
   ]
  },
  {
   "cell_type": "markdown",
   "metadata": {
    "tags": []
   },
   "source": [
    "## Interpret PageRank"
   ]
  },
  {
   "cell_type": "markdown",
   "metadata": {
    "tags": []
   },
   "source": [
    "### Question\n",
    "\n",
    "List out the 10 films with the largest PageRanks.\\\n",
    "What do you notice about the films? what type of films are they? is this expected? why?"
   ]
  },
  {
   "cell_type": "code",
   "execution_count": null,
   "metadata": {},
   "outputs": [],
   "source": [
    "# TODO: list the names of the 10 films with largest page ranks"
   ]
  },
  {
   "cell_type": "markdown",
   "metadata": {
    "tags": []
   },
   "source": [
    "### Question\n",
    "\n",
    "List out the 10 films with the smallest PageRanks.\\\n",
    "What do you notice about the films?"
   ]
  },
  {
   "cell_type": "code",
   "execution_count": null,
   "metadata": {},
   "outputs": [],
   "source": [
    "# TODO: list the names of the 10 films with the smallest page ranks"
   ]
  }
 ],
 "metadata": {
  "interpreter": {
   "hash": "05d9def070595ed3a5d2f360e17188870ccd24783bede71180e4b1c4ac6237f4"
  },
  "kernelspec": {
   "display_name": "Python 3",
   "language": "python",
   "name": "python3"
  },
  "language_info": {
   "codemirror_mode": {
    "name": "ipython",
    "version": 3
   },
   "file_extension": ".py",
   "mimetype": "text/x-python",
   "name": "python",
   "nbconvert_exporter": "python",
   "pygments_lexer": "ipython3",
   "version": "3.7.4"
  }
 },
 "nbformat": 4,
 "nbformat_minor": 4
}
