{
 "cells": [
  {
   "cell_type": "code",
   "execution_count": 1,
   "metadata": {},
   "outputs": [],
   "source": [
    "import gzip\n",
    "import numpy as np\n",
    "import pandas as pd\n",
    "from sklearn.feature_extraction.text import CountVectorizer\n",
    "from sklearn.linear_model import LogisticRegression\n",
    "from sklearn.metrics import accuracy_score"
   ]
  },
  {
   "cell_type": "code",
   "execution_count": 2,
   "metadata": {},
   "outputs": [],
   "source": [
    "# read the data\n",
    "with gzip.open(\"data/labelled_movie_reviews.csv.gz\", \"rt\") as f:\n",
    "    df = pd.read_csv(f)"
   ]
  },
  {
   "cell_type": "code",
   "execution_count": 3,
   "metadata": {},
   "outputs": [],
   "source": [
    "# shuffle the rows\n",
    "# NOTE: we will only use a fraction of the dataset for this lab\n",
    "#       so that you don't have to wait so long for the model to train\n",
    "df = df.sample(frac=0.3, random_state=123).reset_index(drop=True)"
   ]
  },
  {
   "cell_type": "code",
   "execution_count": 4,
   "metadata": {},
   "outputs": [],
   "source": [
    "# convert pandas series to lists\n",
    "Xr = df[\"text\"].tolist()\n",
    "Yr = df[\"label\"].tolist()\n",
    "\n",
    "# compute the train, val, test splits\n",
    "train_frac, val_frac, test_frac = 0.7, 0.1, 0.2\n",
    "train_end = int(train_frac*len(Xr))\n",
    "val_end = int((train_frac + val_frac)*len(Xr))\n",
    "\n",
    "# store the train val test splits\n",
    "X_train = Xr[0:train_end]\n",
    "Y_train = Yr[0:train_end]\n",
    "X_val = Xr[train_end:val_end]\n",
    "Y_val = Yr[train_end:val_end]\n",
    "X_test = Xr[val_end:]\n",
    "Y_test = Yr[val_end:]"
   ]
  },
  {
   "cell_type": "code",
   "execution_count": 29,
   "metadata": {},
   "outputs": [
    {
     "output_type": "stream",
     "name": "stdout",
     "text": [
      "{'pos', 'neg'}\n"
     ]
    }
   ],
   "source": [
    "# fit a linear model\n",
    "# Xtr - A list of training documents provided as text\n",
    "# Ytr - A list of training class labels\n",
    "# C - the regularization parameter\n",
    "print(set(Yr))\n",
    "def fit_model(Xtr, Ytr, C):\n",
    "    # TODO: write model fitting code using CountVectorizer and LogisticRegression\n",
    "    #       CountVectorizer is used to convert the text into sparse TF vectors\n",
    "    #       See https://scikit-learn.org/stable/modules/generated/sklearn.feature_extraction.text.CountVectorizer.html\n",
    "    #       LogisticRegression will train the classifier using these vectors\n",
    "    #       See https://scikit-learn.org/stable/modules/generated/sklearn.linear_model.LogisticRegression.html\n",
    "    #init vectorizer\n",
    "    count_vec = CountVectorizer()\n",
    "    X = count_vec.fit_transform(Xtr)\n",
    "    \n",
    "    #Logistic Regression\n",
    "    model = LogisticRegression(C=C[0])\n",
    "    model.fit(X.toarray(), Ytr)\n",
    "    # return the model and CountVectorizer\n",
    "    # Note: we need to return the CountVectorizer because \n",
    "    # it stores a mapping from words -> ids which we need for testing\n",
    "    return model, count_vec\n"
   ]
  },
  {
   "cell_type": "code",
   "execution_count": 23,
   "metadata": {},
   "outputs": [],
   "source": [
    "# test a fitted linear model\n",
    "# Xtst - A list of test or validation documents\n",
    "# Ytst - A list of test or validation class labels\n",
    "def test_model(Xtst, Ytst, model, count_vec):\n",
    "    # TODO: write code to test a fitted linear model and return accuracy\n",
    "    #       you will need to use count_vec to convert the text into TF vectors\n",
    "    # Hint: the function accuracy_score from sklearn may be helpful\n",
    "    #       See ttps://scikit-learn.org/stable/modules/generated/sklearn.metrics.accuracy_score.html \n",
    "    Xt = count_vec.transform(Xtst)\n",
    "    \n",
    "    score = accuracy_score(Ytst, model.predict(Xt.toarray()))\n",
    "    \n",
    "    return score"
   ]
  },
  {
   "cell_type": "code",
   "execution_count": 41,
   "metadata": {},
   "outputs": [],
   "source": [
    "# TODO: search for the best C parameter by \n",
    "#       training on the training set and testing on the validation set\n",
    "#       you should use fit_model and test_model\n",
    "def obj_func(C, Xtst, Ytst, Xtr, Ytr):\n",
    "    model, count_vec = fit_model(Xtr, Ytr, C)\n",
    "    return -test_model(Xtst, Ytst, model, count_vec) #negative to maximize\n",
    "#Special Imports for this lab\n",
    "\n",
    "from scipy.optimize import minimize\n",
    "import tqdm.notebook as tq\n",
    "\n",
    "def Search(num_iters, Xtr, Ytr, Xtst, Ytst, Xval, Yval, solver=\"L-BFGS-B\", terminate=0.1):\n",
    "    \"\"\"\n",
    "    Optimize (in this case the C value of fitting logistic regressions, could be made to generalize)\n",
    "    Args:\n",
    "        1) num_iters: Number of iterations of minimize\n",
    "        2) Xtr-Yval: X and Y train, test, val sets\n",
    "        3) solver: optimization technique for minimize\n",
    "        4) terminate: loop will break if the rolling average of the step size is less than terminate\n",
    "    \"\"\"\n",
    "\n",
    "    #Def initial Vars\n",
    "    graph_help = dict()\n",
    "    initial_x = [2.0] #initialize the C value (X_0), We initialize at the default value for logistic regression fit\n",
    "    args = (Xtst, Ytst, Xtr, Ytr) #arguments for objective function\n",
    "    Bounds = [(0.001, 20)] #Provide some search bound for the function (Hyperparameter in itself, but we'll see)\n",
    "    minval = [initial_x, obj_func(initial_x, *args)] #Record minimum value\n",
    "    #Early Termination\n",
    "    Step = [float(\"inf\"), float(\"inf\"), float(\"inf\")]#Track rolling average of step sizes (window 3)\n",
    "    Roll = [] #Keep track of C values, need to keep of size 4 Step=[x1-x2, x2-x3, x3-x4]\n",
    "\n",
    "    #Start optimization\n",
    "    for i in tq.tqdm(range(num_iters)): #loop\n",
    "        if i == 4: #Initialize step\n",
    "            Step = [abs(Roll[1]-Roll[0]), abs(Roll[2]-Roll[1]), abs(Roll[3]-Roll[2])]\n",
    "        MinOBJ = minimize(obj_func, x0 = minval[0], args=args, method=solver, bounds=Bounds)\n",
    "        Value = obj_func(MinOBJ['x'], *args)\n",
    "        if MinOBJ['x'][0] < minval[0][0]:\n",
    "            minval = [MinOBJ['x'][0], Value] #update minval to continue optimizing\n",
    "        #Implement Rolling Average for step\n",
    "        if i < 4:\n",
    "            Roll.append(MinOBJ['x'][0])\n",
    "        else:\n",
    "            if np.mean(Step) <= terminate:\n",
    "                break\n",
    "            else:\n",
    "                Roll = Roll[1:].append(MinOBJ['x'][0]) #Update roll\n",
    "                Step = Step[1:].append(abs(Roll[-1] - Roll[-2])) #update Step\n",
    "        print(MinOBJ['x'][0], minval[0][0])\n",
    "        graph_help[MinOBJ['x'][0]] = Value #Graph functionality (Maybe useful)\n",
    "    \n",
    "    #Print metrics, build graph metrics (If i feel like it)\n",
    "    print(\"Current Best C: %.2f\\n Value at C: %.2f\\n\", minval[0], -minval[1]) #Reverse the negative to get accuracy\n",
    "    print(\"Get Validation Metrics\\n\")\n",
    "    modelO, count_vecO = fit_model(Xtr, Ytr, minval[0]) #optimized\n",
    "    model0, count_vec0 = fit_model(Xtr, Ytr, initial_x) #default for comparison\n",
    "    OptimizedResult = test_model(Xval, Yval, modelO, count_vecO) #Calc accuracy\n",
    "    BaseResult = test_model(Xval, Yval, model0, count_vec0)\n",
    "    print(\"Optimized Accuracy: %.2f, Base (Default C Value) Accuracy: %.2f\\n\", OptimizedResult, BaseResult)\n",
    "    print(\"done\")\n",
    "\n",
    "\n",
    "Search(100, X_train, Y_train, X_test, Y_test, X_val, Y_val)"
   ]
  },
  {
   "cell_type": "code",
   "execution_count": null,
   "metadata": {},
   "outputs": [],
   "source": [
    "# TODO: fit the model to the concatenated training and validation set\n",
    "#       test on the test set and print the result"
   ]
  },
  {
   "cell_type": "code",
   "execution_count": null,
   "metadata": {},
   "outputs": [],
   "source": [
    "# TODO: find the words corresponding to the 5 largest (most positive) and \n",
    "#       5 smallest (most negative) co-efficients of the linear model\n",
    "# Hint: a fitted LogisticRegression model in sklearn has a coef_ attribute which stores the co-efficients\n",
    "#       CountVectorizer has a vocabulary_ attribute that stores a mapping of terms to feature indices"
   ]
  }
 ],
 "metadata": {
  "interpreter": {
   "hash": "05d9def070595ed3a5d2f360e17188870ccd24783bede71180e4b1c4ac6237f4"
  },
  "kernelspec": {
   "display_name": "Python 3",
   "language": "python",
   "name": "python3"
  },
  "language_info": {
   "codemirror_mode": {
    "name": "ipython",
    "version": 3
   },
   "file_extension": ".py",
   "mimetype": "text/x-python",
   "name": "python",
   "nbconvert_exporter": "python",
   "pygments_lexer": "ipython3",
   "version": "3.7.4-final"
  }
 },
 "nbformat": 4,
 "nbformat_minor": 4
}