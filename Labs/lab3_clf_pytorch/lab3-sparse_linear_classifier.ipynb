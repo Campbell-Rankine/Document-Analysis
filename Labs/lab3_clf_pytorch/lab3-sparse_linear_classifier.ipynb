{
 "cells": [
  {
   "cell_type": "code",
   "execution_count": 1,
   "metadata": {},
   "outputs": [],
   "source": [
    "import gzip\n",
    "import numpy as np\n",
    "import pandas as pd\n",
    "from sklearn.feature_extraction.text import CountVectorizer\n",
    "from sklearn.linear_model import LogisticRegression\n",
    "from sklearn.metrics import accuracy_score"
   ]
  },
  {
   "cell_type": "code",
   "execution_count": 2,
   "metadata": {},
   "outputs": [],
   "source": [
    "# read the data\n",
    "with gzip.open(\"data/labelled_movie_reviews.csv.gz\", \"rt\") as f:\n",
    "    df = pd.read_csv(f)"
   ]
  },
  {
   "cell_type": "code",
   "execution_count": 5,
   "metadata": {},
   "outputs": [],
   "source": [
    "# shuffle the rows\n",
    "# NOTE: we will only use a fraction of the dataset for this lab\n",
    "#       so that you don't have to wait so long for the model to train\n",
    "df = df.sample(frac=0.5, random_state=123).reset_index(drop=True)"
   ]
  },
  {
   "cell_type": "code",
   "execution_count": 6,
   "metadata": {},
   "outputs": [],
   "source": [
    "# convert pandas series to lists\n",
    "Xr = df[\"text\"].tolist()\n",
    "Yr = df[\"label\"].tolist()\n",
    "\n",
    "# compute the train, val, test splits\n",
    "train_frac, val_frac, test_frac = 0.7, 0.1, 0.2\n",
    "train_end = int(train_frac*len(Xr))\n",
    "val_end = int((train_frac + val_frac)*len(Xr))\n",
    "\n",
    "# store the train val test splits\n",
    "X_train = Xr[0:train_end]\n",
    "Y_train = Yr[0:train_end]\n",
    "X_val = Xr[train_end:val_end]\n",
    "Y_val = Yr[train_end:val_end]\n",
    "X_test = Xr[val_end:]\n",
    "Y_test = Yr[val_end:]"
   ]
  },
  {
   "cell_type": "code",
   "execution_count": 7,
   "metadata": {},
   "outputs": [
    {
     "output_type": "stream",
     "name": "stdout",
     "text": [
      "{'pos', 'neg'}\n"
     ]
    }
   ],
   "source": [
    "# fit a linear model\n",
    "# Xtr - A list of training documents provided as text\n",
    "# Ytr - A list of training class labels\n",
    "# C - the regularization parameter\n",
    "print(set(Yr))\n",
    "def fit_model(Xtr, Ytr, C):\n",
    "    # TODO: write model fitting code using CountVectorizer and LogisticRegression\n",
    "    #       CountVectorizer is used to convert the text into sparse TF vectors\n",
    "    #       See https://scikit-learn.org/stable/modules/generated/sklearn.feature_extraction.text.CountVectorizer.html\n",
    "    #       LogisticRegression will train the classifier using these vectors\n",
    "    #       See https://scikit-learn.org/stable/modules/generated/sklearn.linear_model.LogisticRegression.html\n",
    "    #init vectorizer\n",
    "    count_vec = CountVectorizer()\n",
    "    X = count_vec.fit_transform(Xtr)\n",
    "    \n",
    "    #Logistic Regression\n",
    "    model = LogisticRegression(C=C[0])\n",
    "    model.fit(X.toarray(), Ytr)\n",
    "    # return the model and CountVectorizer\n",
    "    # Note: we need to return the CountVectorizer because \n",
    "    # it stores a mapping from words -> ids which we need for testing\n",
    "    return model, count_vec\n"
   ]
  },
  {
   "cell_type": "code",
   "execution_count": 8,
   "metadata": {},
   "outputs": [],
   "source": [
    "# test a fitted linear model\n",
    "# Xtst - A list of test or validation documents\n",
    "# Ytst - A list of test or validation class labels\n",
    "def test_model(Xtst, Ytst, model, count_vec):\n",
    "    # TODO: write code to test a fitted linear model and return accuracy\n",
    "    #       you will need to use count_vec to convert the text into TF vectors\n",
    "    # Hint: the function accuracy_score from sklearn may be helpful\n",
    "    #       See ttps://scikit-learn.org/stable/modules/generated/sklearn.metrics.accuracy_score.html \n",
    "    Xt = count_vec.transform(Xtst)\n",
    "    \n",
    "    score = accuracy_score(Ytst, model.predict(Xt.toarray()))\n",
    "    \n",
    "    return score"
   ]
  },
  {
   "cell_type": "code",
   "execution_count": 21,
   "metadata": {},
   "outputs": [
    {
     "output_type": "display_data",
     "data": {
      "text/plain": "HBox(children=(IntProgress(value=0, max=10), HTML(value='')))",
      "application/vnd.jupyter.widget-view+json": {
       "version_major": 2,
       "version_minor": 0,
       "model_id": "57f1c80790e1483184e0d4106d2ddde3"
      }
     },
     "metadata": {}
    },
    {
     "output_type": "error",
     "ename": "NameError",
     "evalue": "name 'grid_result' is not defined",
     "traceback": [
      "\u001b[0;31m---------------------------------------------------------------------------\u001b[0m",
      "\u001b[0;31mNameError\u001b[0m                                 Traceback (most recent call last)",
      "\u001b[0;32m<ipython-input-21-d2ba1a29dede>\u001b[0m in \u001b[0;36m<module>\u001b[0;34m\u001b[0m\n\u001b[1;32m     59\u001b[0m \u001b[0;34m\u001b[0m\u001b[0m\n\u001b[1;32m     60\u001b[0m \u001b[0;34m\u001b[0m\u001b[0m\n\u001b[0;32m---> 61\u001b[0;31m \u001b[0mSearch\u001b[0m\u001b[0;34m(\u001b[0m\u001b[0;36m10\u001b[0m\u001b[0;34m,\u001b[0m \u001b[0mX_train\u001b[0m\u001b[0;34m,\u001b[0m \u001b[0mY_train\u001b[0m\u001b[0;34m,\u001b[0m \u001b[0mX_test\u001b[0m\u001b[0;34m,\u001b[0m \u001b[0mY_test\u001b[0m\u001b[0;34m,\u001b[0m \u001b[0mX_val\u001b[0m\u001b[0;34m,\u001b[0m \u001b[0mY_val\u001b[0m\u001b[0;34m)\u001b[0m\u001b[0;34m\u001b[0m\u001b[0;34m\u001b[0m\u001b[0m\n\u001b[0m",
      "\u001b[0;32m<ipython-input-21-d2ba1a29dede>\u001b[0m in \u001b[0;36mSearch\u001b[0;34m(num_iters, Xtr, Ytr, Xtst, Ytst, Xval, Yval, solver, terminate)\u001b[0m\n\u001b[1;32m     40\u001b[0m         \u001b[0mgrid_search\u001b[0m \u001b[0;34m=\u001b[0m \u001b[0mGridSearchCV\u001b[0m\u001b[0;34m(\u001b[0m\u001b[0mestimator\u001b[0m\u001b[0;34m=\u001b[0m\u001b[0mmodel\u001b[0m\u001b[0;34m,\u001b[0m \u001b[0mparam_grid\u001b[0m\u001b[0;34m=\u001b[0m\u001b[0mgrid\u001b[0m\u001b[0;34m,\u001b[0m \u001b[0mn_jobs\u001b[0m\u001b[0;34m=\u001b[0m\u001b[0;34m-\u001b[0m\u001b[0;36m1\u001b[0m\u001b[0;34m,\u001b[0m \u001b[0mcv\u001b[0m\u001b[0;34m=\u001b[0m\u001b[0mcv\u001b[0m\u001b[0;34m,\u001b[0m \u001b[0mscoring\u001b[0m\u001b[0;34m=\u001b[0m\u001b[0;34m'accuracy'\u001b[0m\u001b[0;34m,\u001b[0m\u001b[0merror_score\u001b[0m\u001b[0;34m=\u001b[0m\u001b[0;36m0\u001b[0m\u001b[0;34m)\u001b[0m\u001b[0;34m\u001b[0m\u001b[0;34m\u001b[0m\u001b[0m\n\u001b[1;32m     41\u001b[0m         \u001b[0mgrid_search\u001b[0m\u001b[0;34m.\u001b[0m\u001b[0mfit\u001b[0m\u001b[0;34m(\u001b[0m\u001b[0;34m*\u001b[0m\u001b[0margs\u001b[0m\u001b[0;34m)\u001b[0m \u001b[0;31m#run optimization\u001b[0m\u001b[0;34m\u001b[0m\u001b[0;34m\u001b[0m\u001b[0m\n\u001b[0;32m---> 42\u001b[0;31m         \u001b[0mscore\u001b[0m \u001b[0;34m=\u001b[0m \u001b[0mgrid_result\u001b[0m\u001b[0;34m.\u001b[0m\u001b[0mbest_score_\u001b[0m\u001b[0;34m\u001b[0m\u001b[0;34m\u001b[0m\u001b[0m\n\u001b[0m\u001b[1;32m     43\u001b[0m         \u001b[0mvalC\u001b[0m \u001b[0;34m=\u001b[0m \u001b[0mgrid_result\u001b[0m\u001b[0;34m.\u001b[0m\u001b[0mbest_params_\u001b[0m\u001b[0;34m\u001b[0m\u001b[0;34m\u001b[0m\u001b[0m\n\u001b[1;32m     44\u001b[0m         \u001b[0mprint\u001b[0m\u001b[0;34m(\u001b[0m\u001b[0mvalC\u001b[0m\u001b[0;34m)\u001b[0m\u001b[0;34m\u001b[0m\u001b[0;34m\u001b[0m\u001b[0m\n",
      "\u001b[0;31mNameError\u001b[0m: name 'grid_result' is not defined"
     ]
    }
   ],
   "source": [
    "# TODO: search for the best C parameter by \n",
    "#       training on the training set and testing on the validation set\n",
    "#       you should use fit_model and test_model\n",
    "def obj_func(C, Xtst, Ytst, Xtr, Ytr):\n",
    "    model, count_vec = fit_model(Xtr, Ytr, C)\n",
    "    return test_model(Xtst, Ytst, model, count_vec)#negative to maximize\n",
    "#Special Imports for this lab\n",
    "\n",
    "from scipy.optimize import minimize\n",
    "import tqdm.notebook as tq\n",
    "from sklearn.model_selection import RepeatedStratifiedKFold\n",
    "from sklearn.model_selection import GridSearchCV\n",
    "\n",
    "def update_vals(best_val): #n number of iterations, vals: current grid search params, best_val(want to keep this inside)\n",
    "    return dict(C= [-(1/5)(3)**2,-(1/5)(2)**2,-(1/5)(1)**2, best_val, (1/5)(1)**2,(1/5)(2)**2,(1/5)(3)**2,])\n",
    "\n",
    "def Search(num_iters, Xtr, Ytr, Xtst, Ytst, Xval, Yval, solver=\"L-BFGS-B\", terminate=0.1):\n",
    "    \"\"\"\n",
    "    Optimize (in this case the C value of fitting logistic regressions, could be made to generalize)\n",
    "    Args:\n",
    "        1) num_iters: Number of iterations of minimize\n",
    "        2) Xtr-Yval: X and Y train, test, val sets\n",
    "        3) solver: optimization technique for minimize\n",
    "        4) terminate: loop will break if the rolling average of the step size is less than terminate\n",
    "    \"\"\"\n",
    "\n",
    "    #Def initial Vars\n",
    "    graph_help = dict()\n",
    "    initial_x = 1.0 #initialize the C value (X_0), We initialize at the default value for logistic regression fit\n",
    "    count_vec = CountVectorizer() #Must vectorize as in steps above\n",
    "    X = count_vec.fit_transform(Xtr)\n",
    "    args = (X.toarray(), Ytr) #arguments for objective function\n",
    "    minval = [float(\"inf\"), 0.0] #Record best run (initialize w default)\n",
    "    model = LogisticRegression()\n",
    "    grid = dict(C= [0.001, 0.1, 0.5, 1.0, 5.0, 10.0, 100.0])\n",
    "    cv = RepeatedStratifiedKFold(n_splits=3, n_repeats=1, random_state=1)\n",
    "\n",
    "    #Start optimization\n",
    "    for i in tq.tqdm(range(num_iters)): #loop\n",
    "        grid_search = GridSearchCV(estimator=model, param_grid=grid, n_jobs=-1, cv=cv, scoring='accuracy',error_score=0)\n",
    "        grid_result = grid_search.fit(*args) #run optimization\n",
    "        score = grid_result.best_score_\n",
    "        valC = grid_result.best_params_\n",
    "        print(valC)\n",
    "        if score > minval[1]:\n",
    "            minval = [valC, score] #update minval to continue optimizing\n",
    "        grid = update_vals(best_params_)\n",
    "        graph_help[valC] = score #Graph functionality (Maybe useful)\n",
    "    \n",
    "    #Print metrics, build graph metrics (If i feel like it)\n",
    "    print(\"Current Best C: %.3f\\n Value at C: %.3f\\n\" % (minval[0], minval[1])) #Reverse the negative to get accuracy\n",
    "    print(\"Get Validation Metrics\\n\")\n",
    "    modelO, count_vecO = fit_model(Xtr, Ytr, minval[0]) #optimized\n",
    "    model0, count_vec0 = fit_model(Xtr, Ytr, initial_x) #default for comparison\n",
    "    OptimizedResult = test_model(Xval, Yval, modelO, count_vecO) #Calc accuracy\n",
    "    BaseResult = test_model(Xval, Yval, model0, count_vec0)\n",
    "    print(\"Optimized Accuracy: %.3f, Base (Default C Value) Accuracy: %.3f\\n\" % (OptimizedResult, BaseResult))\n",
    "    print(\"done\")\n",
    "\n",
    "\n",
    "Search(10, X_train, Y_train, X_test, Y_test, X_val, Y_val)"
   ]
  },
  {
   "cell_type": "code",
   "execution_count": null,
   "metadata": {},
   "outputs": [],
   "source": [
    "# TODO: fit the model to the concatenated training and validation set\n",
    "#       test on the test set and print the result"
   ]
  },
  {
   "cell_type": "code",
   "execution_count": null,
   "metadata": {},
   "outputs": [],
   "source": [
    "# TODO: find the words corresponding to the 5 largest (most positive) and \n",
    "#       5 smallest (most negative) co-efficients of the linear model\n",
    "# Hint: a fitted LogisticRegression model in sklearn has a coef_ attribute which stores the co-efficients\n",
    "#       CountVectorizer has a vocabulary_ attribute that stores a mapping of terms to feature indices"
   ]
  }
 ],
 "metadata": {
  "interpreter": {
   "hash": "05d9def070595ed3a5d2f360e17188870ccd24783bede71180e4b1c4ac6237f4"
  },
  "kernelspec": {
   "display_name": "Python 3",
   "language": "python",
   "name": "python3"
  },
  "language_info": {
   "codemirror_mode": {
    "name": "ipython",
    "version": 3
   },
   "file_extension": ".py",
   "mimetype": "text/x-python",
   "name": "python",
   "nbconvert_exporter": "python",
   "pygments_lexer": "ipython3",
   "version": "3.7.4-final"
  }
 },
 "nbformat": 4,
 "nbformat_minor": 4
}